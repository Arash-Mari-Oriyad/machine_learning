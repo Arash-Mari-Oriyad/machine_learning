{
 "cells": [
  {
   "cell_type": "code",
   "execution_count": 2,
   "metadata": {},
   "outputs": [
    {
     "name": "stdout",
     "output_type": "stream",
     "text": [
      "Requirement already satisfied: keras in /home/arash/softwares/anaconda/lib/python3.7/site-packages (2.3.1)\n",
      "Requirement already satisfied: h5py in /home/arash/softwares/anaconda/lib/python3.7/site-packages (from keras) (2.10.0)\n",
      "Requirement already satisfied: keras-applications>=1.0.6 in /home/arash/softwares/anaconda/lib/python3.7/site-packages (from keras) (1.0.8)\n",
      "Requirement already satisfied: keras-preprocessing>=1.0.5 in /home/arash/softwares/anaconda/lib/python3.7/site-packages (from keras) (1.1.2)\n",
      "Requirement already satisfied: pyyaml in /home/arash/softwares/anaconda/lib/python3.7/site-packages (from keras) (5.3.1)\n",
      "Requirement already satisfied: six>=1.9.0 in /home/arash/softwares/anaconda/lib/python3.7/site-packages (from keras) (1.14.0)\n",
      "Requirement already satisfied: numpy>=1.9.1 in /home/arash/softwares/anaconda/lib/python3.7/site-packages (from keras) (1.18.1)\n",
      "Requirement already satisfied: scipy>=0.14 in /home/arash/softwares/anaconda/lib/python3.7/site-packages (from keras) (1.4.1)\n"
     ]
    }
   ],
   "source": [
    "! pip install keras"
   ]
  },
  {
   "cell_type": "code",
   "execution_count": 46,
   "metadata": {},
   "outputs": [],
   "source": [
    "import keras\n",
    "from keras.models import Sequential\n",
    "from keras.layers import Dense, Dropout\n",
    "import numpy as np\n",
    "from scipy import io\n",
    "from skimage.transform import resize\n",
    "import matplotlib.pyplot as plt"
   ]
  },
  {
   "cell_type": "code",
   "execution_count": 4,
   "metadata": {},
   "outputs": [],
   "source": [
    "np.random.seed(13)"
   ]
  },
  {
   "cell_type": "code",
   "execution_count": 6,
   "metadata": {},
   "outputs": [],
   "source": [
    "def load_hoda_digits(training_sample_size=50000, testing_sample_size=10000, size=10):\n",
    "    dataset = io.loadmat('data/data.mat')\n",
    "    data = np.squeeze(dataset['Data'])\n",
    "    labels = np.squeeze(dataset['labels'])\n",
    "    X_train_orginal = data[:training_sample_size]\n",
    "    y_train = labels[:training_sample_size]\n",
    "    X_test_orginal = data[60000-testing_sample_size:]\n",
    "    y_test = labels[60000-testing_sample_size:]\n",
    "    plt.imshow(X_train_orginal[13], cmap='gray')\n",
    "    plt.show()\n",
    "    print(y_train[13])\n",
    "    X_train_size_by_size = [resize(img, (size, size)) for img in X_train_orginal]\n",
    "    X_test_size_by_size = [resize(img, (size, size)) for img in X_test_orginal]\n",
    "    X_train = [x.reshape(size*size) for x in X_train_size_by_size]\n",
    "    X_test = [x.reshape(size*size) for x in X_test_size_by_size]\n",
    "    return X_train, y_train, X_test, y_test"
   ]
  },
  {
   "cell_type": "code",
   "execution_count": 24,
   "metadata": {},
   "outputs": [],
   "source": [
    "training_sample_size=50000\n",
    "testing_sample_size=10000\n",
    "size=10"
   ]
  },
  {
   "cell_type": "code",
   "execution_count": 25,
   "metadata": {},
   "outputs": [
    {
     "data": {
      "image/png": "[encoded data removed]",
      "text/plain": [
       "<Figure size 432x288 with 1 Axes>"
      ]
     },
     "metadata": {
      "needs_background": "light"
     },
     "output_type": "display_data"
    },
    {
     "name": "stdout",
     "output_type": "stream",
     "text": [
      "6\n"
     ]
    }
   ],
   "source": [
    "X_train, y_train, X_test, y_test = load_hoda_digits(training_sample_size=training_sample_size,\n",
    "                                                   testing_sample_size=testing_sample_size,\n",
    "                                                   size=size)"
   ]
  },
  {
   "cell_type": "code",
   "execution_count": 26,
   "metadata": {},
   "outputs": [],
   "source": [
    "X_train = np.array(X_train)\n",
    "y_train = keras.utils.to_categorical(y_train, num_classes=10)\n",
    "X_test = np.array(X_test)\n",
    "y_test = keras.utils.to_categorical(y_test, num_classes=10)"
   ]
  },
  {
   "cell_type": "code",
   "execution_count": 27,
   "metadata": {},
   "outputs": [
    {
     "name": "stdout",
     "output_type": "stream",
     "text": [
      "(50000, 100)\n",
      "(50000, 10)\n",
      "(10000, 100)\n",
      "(10000, 10)\n"
     ]
    }
   ],
   "source": [
    "print(X_train.shape)\n",
    "print(y_train.shape)\n",
    "print(X_test.shape)\n",
    "print(y_test.shape)"
   ]
  },
  {
   "cell_type": "code",
   "execution_count": 28,
   "metadata": {},
   "outputs": [
    {
     "name": "stdout",
     "output_type": "stream",
     "text": [
      "[3.3570935e-03 3.2037678e-03 3.1541714e-03 3.1541714e-03 3.1541714e-03\n",
      " 3.1541714e-03 3.1544406e-03 1.4100346e-03 0.0000000e+00 0.0000000e+00\n",
      " 6.1164936e-04 1.3049981e-03 1.3248750e-03 1.3248750e-03 1.3248750e-03\n",
      " 1.5683583e-03 3.5896576e-03 1.9640522e-03 1.3071896e-06 0.0000000e+00\n",
      " 0.0000000e+00 0.0000000e+00 3.8446756e-06 3.8446756e-06 3.8446756e-06\n",
      " 5.4901961e-04 3.7018454e-03 3.2641292e-03 1.2418300e-04 0.0000000e+00\n",
      " 0.0000000e+00 0.0000000e+00 0.0000000e+00 0.0000000e+00 0.0000000e+00\n",
      " 1.0584391e-04 2.8211842e-03 3.5653596e-03 3.5151865e-04 0.0000000e+00\n",
      " 0.0000000e+00 0.0000000e+00 0.0000000e+00 0.0000000e+00 0.0000000e+00\n",
      " 0.0000000e+00 9.1853138e-04 3.7627835e-03 1.5742022e-03 0.0000000e+00\n",
      " 0.0000000e+00 0.0000000e+00 0.0000000e+00 0.0000000e+00 0.0000000e+00\n",
      " 0.0000000e+00 3.7108804e-04 3.4825068e-03 2.8431374e-03 6.6474429e-05\n",
      " 0.0000000e+00 0.0000000e+00 0.0000000e+00 0.0000000e+00 0.0000000e+00\n",
      " 0.0000000e+00 2.0453672e-05 1.7804691e-03 3.6778164e-03 7.9930801e-04\n",
      " 0.0000000e+00 0.0000000e+00 0.0000000e+00 0.0000000e+00 0.0000000e+00\n",
      " 0.0000000e+00 0.0000000e+00 2.6912728e-04 3.1443676e-03 2.9125337e-03\n",
      " 0.0000000e+00 0.0000000e+00 0.0000000e+00 0.0000000e+00 0.0000000e+00\n",
      " 0.0000000e+00 0.0000000e+00 1.6147636e-05 1.9253364e-03 3.8698576e-03\n",
      " 0.0000000e+00 0.0000000e+00 0.0000000e+00 0.0000000e+00 0.0000000e+00\n",
      " 0.0000000e+00 0.0000000e+00 0.0000000e+00 7.7427912e-04 3.4589004e-03]\n"
     ]
    }
   ],
   "source": [
    "X_train = X_train.astype('float32')\n",
    "X_test = X_test.astype('float32')\n",
    "X_train /= 255\n",
    "X_test /= 255\n",
    "print(X_train[13])"
   ]
  },
  {
   "cell_type": "code",
   "execution_count": 47,
   "metadata": {},
   "outputs": [
    {
     "name": "stdout",
     "output_type": "stream",
     "text": [
      "Model: \"sequential_6\"\n",
      "_________________________________________________________________\n",
      "Layer (type)                 Output Shape              Param #   \n",
      "=================================================================\n",
      "dense_12 (Dense)             (None, 64)                6464      \n",
      "_________________________________________________________________\n",
      "dense_13 (Dense)             (None, 256)               16640     \n",
      "_________________________________________________________________\n",
      "dropout_1 (Dropout)          (None, 256)               0         \n",
      "_________________________________________________________________\n",
      "dense_14 (Dense)             (None, 10)                2570      \n",
      "=================================================================\n",
      "Total params: 25,674\n",
      "Trainable params: 25,674\n",
      "Non-trainable params: 0\n",
      "_________________________________________________________________\n"
     ]
    }
   ],
   "source": [
    "model = Sequential()\n",
    "model.add(Dense(64, activation='relu', input_dim=size*size))\n",
    "model.add(Dense(256, activation='relu', input_dim=size*size))\n",
    "model.add(Dropout(0.5))\n",
    "model.add(Dense(10, activation='softmax'))\n",
    "model.summary()"
   ]
  },
  {
   "cell_type": "code",
   "execution_count": 48,
   "metadata": {},
   "outputs": [],
   "source": [
    "model.compile(loss='categorical_crossentropy',\n",
    "             optimizer='rmsprop',\n",
    "             metrics=['accuracy'])"
   ]
  },
  {
   "cell_type": "code",
   "execution_count": 49,
   "metadata": {},
   "outputs": [
    {
     "name": "stdout",
     "output_type": "stream",
     "text": [
      "Train on 40000 samples, validate on 10000 samples\n",
      "Epoch 1/100\n",
      "40000/40000 [==============================] - 3s 66us/step - loss: 1.5735 - accuracy: 0.4938 - val_loss: 0.8848 - val_accuracy: 0.7674\n",
      "Epoch 2/100\n",
      "40000/40000 [==============================] - 2s 58us/step - loss: 0.7083 - accuracy: 0.7830 - val_loss: 0.5187 - val_accuracy: 0.8397\n",
      "Epoch 3/100\n",
      "40000/40000 [==============================] - 2s 58us/step - loss: 0.4842 - accuracy: 0.8510 - val_loss: 0.3831 - val_accuracy: 0.8820\n",
      "Epoch 4/100\n",
      "40000/40000 [==============================] - 2s 59us/step - loss: 0.3866 - accuracy: 0.8799 - val_loss: 0.3219 - val_accuracy: 0.8997\n",
      "Epoch 5/100\n",
      "40000/40000 [==============================] - 2s 61us/step - loss: 0.3307 - accuracy: 0.8982 - val_loss: 0.2849 - val_accuracy: 0.9122\n",
      "Epoch 6/100\n",
      "40000/40000 [==============================] - 2s 60us/step - loss: 0.2947 - accuracy: 0.9103 - val_loss: 0.2490 - val_accuracy: 0.9260\n",
      "Epoch 7/100\n",
      "40000/40000 [==============================] - 2s 60us/step - loss: 0.2633 - accuracy: 0.9190 - val_loss: 0.2261 - val_accuracy: 0.9343\n",
      "Epoch 8/100\n",
      "40000/40000 [==============================] - 2s 59us/step - loss: 0.2358 - accuracy: 0.9305 - val_loss: 0.2108 - val_accuracy: 0.9355\n",
      "Epoch 9/100\n",
      "40000/40000 [==============================] - 2s 61us/step - loss: 0.2142 - accuracy: 0.9365 - val_loss: 0.1820 - val_accuracy: 0.9475\n",
      "Epoch 10/100\n",
      "40000/40000 [==============================] - 2s 61us/step - loss: 0.2000 - accuracy: 0.9412 - val_loss: 0.1721 - val_accuracy: 0.9482\n",
      "Epoch 11/100\n",
      "40000/40000 [==============================] - 2s 61us/step - loss: 0.1847 - accuracy: 0.9459 - val_loss: 0.1593 - val_accuracy: 0.9547\n",
      "Epoch 12/100\n",
      "40000/40000 [==============================] - 2s 61us/step - loss: 0.1720 - accuracy: 0.9500 - val_loss: 0.1511 - val_accuracy: 0.9570\n",
      "Epoch 13/100\n",
      "40000/40000 [==============================] - 2s 59us/step - loss: 0.1636 - accuracy: 0.9526 - val_loss: 0.1414 - val_accuracy: 0.9586\n",
      "Epoch 14/100\n",
      "40000/40000 [==============================] - 2s 58us/step - loss: 0.1554 - accuracy: 0.9549 - val_loss: 0.1407 - val_accuracy: 0.9578\n",
      "Epoch 15/100\n",
      "40000/40000 [==============================] - 3s 63us/step - loss: 0.1454 - accuracy: 0.9580 - val_loss: 0.1393 - val_accuracy: 0.9606\n",
      "Epoch 16/100\n",
      "40000/40000 [==============================] - 2s 58us/step - loss: 0.1400 - accuracy: 0.9604 - val_loss: 0.1308 - val_accuracy: 0.9622\n",
      "Epoch 17/100\n",
      "40000/40000 [==============================] - 2s 59us/step - loss: 0.1323 - accuracy: 0.9621 - val_loss: 0.1298 - val_accuracy: 0.9609\n",
      "Epoch 18/100\n",
      "40000/40000 [==============================] - 2s 59us/step - loss: 0.1255 - accuracy: 0.9642 - val_loss: 0.1191 - val_accuracy: 0.9659\n",
      "Epoch 19/100\n",
      "40000/40000 [==============================] - 2s 59us/step - loss: 0.1221 - accuracy: 0.9653 - val_loss: 0.1124 - val_accuracy: 0.9673\n",
      "Epoch 20/100\n",
      "40000/40000 [==============================] - 2s 59us/step - loss: 0.1166 - accuracy: 0.9658 - val_loss: 0.1104 - val_accuracy: 0.9666\n",
      "Epoch 21/100\n",
      "40000/40000 [==============================] - 3s 70us/step - loss: 0.1111 - accuracy: 0.9685 - val_loss: 0.1046 - val_accuracy: 0.9693\n",
      "Epoch 22/100\n",
      "40000/40000 [==============================] - 2s 58us/step - loss: 0.1068 - accuracy: 0.9697 - val_loss: 0.1024 - val_accuracy: 0.9701\n",
      "Epoch 23/100\n",
      "40000/40000 [==============================] - 2s 60us/step - loss: 0.1050 - accuracy: 0.9703 - val_loss: 0.0968 - val_accuracy: 0.9721\n",
      "Epoch 24/100\n",
      "40000/40000 [==============================] - 2s 59us/step - loss: 0.0999 - accuracy: 0.9713 - val_loss: 0.0935 - val_accuracy: 0.9734\n",
      "Epoch 25/100\n",
      "40000/40000 [==============================] - 2s 58us/step - loss: 0.1000 - accuracy: 0.9711 - val_loss: 0.0967 - val_accuracy: 0.9716\n",
      "Epoch 26/100\n",
      "40000/40000 [==============================] - 2s 60us/step - loss: 0.0946 - accuracy: 0.9725 - val_loss: 0.1060 - val_accuracy: 0.9687\n",
      "Epoch 27/100\n",
      "40000/40000 [==============================] - 2s 59us/step - loss: 0.0920 - accuracy: 0.9742 - val_loss: 0.0927 - val_accuracy: 0.9728\n",
      "Epoch 28/100\n",
      "40000/40000 [==============================] - 2s 60us/step - loss: 0.0919 - accuracy: 0.9735 - val_loss: 0.0895 - val_accuracy: 0.9737\n",
      "Epoch 29/100\n",
      "40000/40000 [==============================] - 2s 60us/step - loss: 0.0888 - accuracy: 0.9750 - val_loss: 0.0901 - val_accuracy: 0.9736\n",
      "Epoch 30/100\n",
      "40000/40000 [==============================] - 2s 59us/step - loss: 0.0851 - accuracy: 0.9753 - val_loss: 0.0900 - val_accuracy: 0.9734\n",
      "Epoch 31/100\n",
      "40000/40000 [==============================] - 2s 60us/step - loss: 0.0847 - accuracy: 0.9760 - val_loss: 0.0953 - val_accuracy: 0.9734\n",
      "Epoch 32/100\n",
      "40000/40000 [==============================] - 3s 63us/step - loss: 0.0820 - accuracy: 0.9761 - val_loss: 0.0848 - val_accuracy: 0.9760\n",
      "Epoch 33/100\n",
      "40000/40000 [==============================] - 2s 58us/step - loss: 0.0805 - accuracy: 0.9774 - val_loss: 0.0854 - val_accuracy: 0.9750\n",
      "Epoch 34/100\n",
      "40000/40000 [==============================] - 2s 59us/step - loss: 0.0793 - accuracy: 0.9772 - val_loss: 0.0813 - val_accuracy: 0.9756\n",
      "Epoch 35/100\n",
      "40000/40000 [==============================] - 2s 60us/step - loss: 0.0767 - accuracy: 0.9778 - val_loss: 0.0789 - val_accuracy: 0.9772\n",
      "Epoch 36/100\n",
      "40000/40000 [==============================] - 3s 69us/step - loss: 0.0724 - accuracy: 0.9790 - val_loss: 0.0822 - val_accuracy: 0.9758\n",
      "Epoch 37/100\n",
      "40000/40000 [==============================] - 3s 69us/step - loss: 0.0741 - accuracy: 0.9782 - val_loss: 0.0782 - val_accuracy: 0.9773\n",
      "Epoch 38/100\n",
      "40000/40000 [==============================] - 2s 62us/step - loss: 0.0715 - accuracy: 0.9799 - val_loss: 0.0765 - val_accuracy: 0.9774\n",
      "Epoch 39/100\n",
      "40000/40000 [==============================] - 3s 65us/step - loss: 0.0713 - accuracy: 0.9791 - val_loss: 0.0794 - val_accuracy: 0.9756\n",
      "Epoch 40/100\n",
      "40000/40000 [==============================] - 3s 71us/step - loss: 0.0708 - accuracy: 0.9806 - val_loss: 0.0807 - val_accuracy: 0.9766\n",
      "Epoch 41/100\n",
      "40000/40000 [==============================] - 3s 70us/step - loss: 0.0680 - accuracy: 0.9798 - val_loss: 0.0817 - val_accuracy: 0.9747\n",
      "Epoch 42/100\n",
      "40000/40000 [==============================] - 3s 65us/step - loss: 0.0693 - accuracy: 0.9812 - val_loss: 0.0867 - val_accuracy: 0.9727\n",
      "Epoch 43/100\n",
      "40000/40000 [==============================] - 3s 65us/step - loss: 0.0663 - accuracy: 0.9810 - val_loss: 0.0764 - val_accuracy: 0.9798\n",
      "Epoch 44/100\n",
      "40000/40000 [==============================] - 3s 64us/step - loss: 0.0659 - accuracy: 0.9817 - val_loss: 0.0769 - val_accuracy: 0.9779\n",
      "Epoch 45/100\n",
      "40000/40000 [==============================] - 3s 65us/step - loss: 0.0647 - accuracy: 0.9811 - val_loss: 0.0785 - val_accuracy: 0.9776\n",
      "Epoch 46/100\n",
      "40000/40000 [==============================] - 3s 66us/step - loss: 0.0633 - accuracy: 0.9821 - val_loss: 0.0767 - val_accuracy: 0.9785\n",
      "Epoch 47/100\n",
      "40000/40000 [==============================] - 3s 65us/step - loss: 0.0632 - accuracy: 0.9817 - val_loss: 0.0753 - val_accuracy: 0.9769\n",
      "Epoch 48/100\n",
      "40000/40000 [==============================] - 3s 64us/step - loss: 0.0620 - accuracy: 0.9823 - val_loss: 0.0746 - val_accuracy: 0.9796\n",
      "Epoch 49/100\n",
      "40000/40000 [==============================] - 3s 65us/step - loss: 0.0623 - accuracy: 0.9825 - val_loss: 0.0765 - val_accuracy: 0.9790\n",
      "Epoch 50/100\n",
      "40000/40000 [==============================] - 3s 73us/step - loss: 0.0602 - accuracy: 0.9827 - val_loss: 0.0732 - val_accuracy: 0.9790\n",
      "Epoch 51/100\n",
      "40000/40000 [==============================] - 3s 78us/step - loss: 0.0592 - accuracy: 0.9823 - val_loss: 0.0808 - val_accuracy: 0.9773\n",
      "Epoch 52/100\n",
      "40000/40000 [==============================] - 3s 71us/step - loss: 0.0589 - accuracy: 0.9833 - val_loss: 0.0722 - val_accuracy: 0.9809\n",
      "Epoch 53/100\n",
      "40000/40000 [==============================] - 3s 71us/step - loss: 0.0568 - accuracy: 0.9836 - val_loss: 0.0740 - val_accuracy: 0.9786\n",
      "Epoch 54/100\n",
      "40000/40000 [==============================] - 3s 72us/step - loss: 0.0575 - accuracy: 0.9834 - val_loss: 0.0778 - val_accuracy: 0.9797\n",
      "Epoch 55/100\n",
      "40000/40000 [==============================] - 3s 71us/step - loss: 0.0559 - accuracy: 0.9839 - val_loss: 0.0720 - val_accuracy: 0.9808\n"
     ]
    },
    {
     "name": "stdout",
     "output_type": "stream",
     "text": [
      "Epoch 56/100\n",
      "40000/40000 [==============================] - 3s 64us/step - loss: 0.0546 - accuracy: 0.9844 - val_loss: 0.0717 - val_accuracy: 0.9791\n",
      "Epoch 57/100\n",
      "40000/40000 [==============================] - 3s 66us/step - loss: 0.0555 - accuracy: 0.9847 - val_loss: 0.0687 - val_accuracy: 0.9819\n",
      "Epoch 58/100\n",
      "40000/40000 [==============================] - 3s 67us/step - loss: 0.0540 - accuracy: 0.9848 - val_loss: 0.0740 - val_accuracy: 0.9791\n",
      "Epoch 59/100\n",
      "40000/40000 [==============================] - 2s 61us/step - loss: 0.0538 - accuracy: 0.9845 - val_loss: 0.0719 - val_accuracy: 0.9801\n",
      "Epoch 60/100\n",
      "40000/40000 [==============================] - 2s 60us/step - loss: 0.0537 - accuracy: 0.9849 - val_loss: 0.0686 - val_accuracy: 0.9807\n",
      "Epoch 61/100\n",
      "40000/40000 [==============================] - 3s 64us/step - loss: 0.0520 - accuracy: 0.9848 - val_loss: 0.0739 - val_accuracy: 0.9813\n",
      "Epoch 62/100\n",
      "40000/40000 [==============================] - 3s 67us/step - loss: 0.0530 - accuracy: 0.9851 - val_loss: 0.0677 - val_accuracy: 0.9826\n",
      "Epoch 63/100\n",
      "40000/40000 [==============================] - 3s 67us/step - loss: 0.0514 - accuracy: 0.9857 - val_loss: 0.0715 - val_accuracy: 0.9804\n",
      "Epoch 64/100\n",
      "40000/40000 [==============================] - 3s 76us/step - loss: 0.0507 - accuracy: 0.9852 - val_loss: 0.0699 - val_accuracy: 0.9817\n",
      "Epoch 65/100\n",
      "40000/40000 [==============================] - 4s 100us/step - loss: 0.0517 - accuracy: 0.9856 - val_loss: 0.0639 - val_accuracy: 0.9822\n",
      "Epoch 66/100\n",
      "40000/40000 [==============================] - 4s 89us/step - loss: 0.0513 - accuracy: 0.9857 - val_loss: 0.0673 - val_accuracy: 0.9823\n",
      "Epoch 67/100\n",
      "40000/40000 [==============================] - 4s 93us/step - loss: 0.0501 - accuracy: 0.9863 - val_loss: 0.0667 - val_accuracy: 0.9825\n",
      "Epoch 68/100\n",
      "40000/40000 [==============================] - 3s 80us/step - loss: 0.0520 - accuracy: 0.9859 - val_loss: 0.0757 - val_accuracy: 0.9812\n",
      "Epoch 69/100\n",
      "40000/40000 [==============================] - 3s 72us/step - loss: 0.0505 - accuracy: 0.9859 - val_loss: 0.0739 - val_accuracy: 0.9824\n",
      "Epoch 70/100\n",
      "40000/40000 [==============================] - 3s 71us/step - loss: 0.0504 - accuracy: 0.9859 - val_loss: 0.0710 - val_accuracy: 0.9827\n",
      "Epoch 71/100\n",
      "40000/40000 [==============================] - 3s 71us/step - loss: 0.0499 - accuracy: 0.9861 - val_loss: 0.0671 - val_accuracy: 0.9828\n",
      "Epoch 72/100\n",
      "40000/40000 [==============================] - 3s 71us/step - loss: 0.0490 - accuracy: 0.9859 - val_loss: 0.0711 - val_accuracy: 0.9802\n",
      "Epoch 73/100\n",
      "40000/40000 [==============================] - 3s 71us/step - loss: 0.0473 - accuracy: 0.9865 - val_loss: 0.0660 - val_accuracy: 0.9827\n",
      "Epoch 74/100\n",
      "40000/40000 [==============================] - 3s 72us/step - loss: 0.0476 - accuracy: 0.9865 - val_loss: 0.0673 - val_accuracy: 0.9826\n",
      "Epoch 75/100\n",
      "40000/40000 [==============================] - 3s 70us/step - loss: 0.0488 - accuracy: 0.9864 - val_loss: 0.0689 - val_accuracy: 0.9828\n",
      "Epoch 76/100\n",
      "40000/40000 [==============================] - 3s 70us/step - loss: 0.0470 - accuracy: 0.9862 - val_loss: 0.0805 - val_accuracy: 0.9803\n",
      "Epoch 77/100\n",
      "40000/40000 [==============================] - 3s 86us/step - loss: 0.0480 - accuracy: 0.9869 - val_loss: 0.0649 - val_accuracy: 0.9835\n",
      "Epoch 78/100\n",
      "40000/40000 [==============================] - 3s 81us/step - loss: 0.0467 - accuracy: 0.9866 - val_loss: 0.0724 - val_accuracy: 0.9822\n",
      "Epoch 79/100\n",
      "40000/40000 [==============================] - 3s 72us/step - loss: 0.0455 - accuracy: 0.9868 - val_loss: 0.0751 - val_accuracy: 0.9802\n",
      "Epoch 80/100\n",
      "40000/40000 [==============================] - 3s 71us/step - loss: 0.0454 - accuracy: 0.9871 - val_loss: 0.0680 - val_accuracy: 0.9825\n",
      "Epoch 81/100\n",
      "40000/40000 [==============================] - 4s 97us/step - loss: 0.0450 - accuracy: 0.9873 - val_loss: 0.0657 - val_accuracy: 0.9838\n",
      "Epoch 82/100\n",
      "40000/40000 [==============================] - 4s 99us/step - loss: 0.0466 - accuracy: 0.9870 - val_loss: 0.0719 - val_accuracy: 0.9822\n",
      "Epoch 83/100\n",
      "40000/40000 [==============================] - 4s 100us/step - loss: 0.0466 - accuracy: 0.9870 - val_loss: 0.0703 - val_accuracy: 0.9836\n",
      "Epoch 84/100\n",
      "40000/40000 [==============================] - 4s 96us/step - loss: 0.0441 - accuracy: 0.9875 - val_loss: 0.0703 - val_accuracy: 0.9816\n",
      "Epoch 85/100\n",
      "40000/40000 [==============================] - 4s 101us/step - loss: 0.0452 - accuracy: 0.9876 - val_loss: 0.0708 - val_accuracy: 0.9837\n",
      "Epoch 86/100\n",
      "40000/40000 [==============================] - 4s 97us/step - loss: 0.0452 - accuracy: 0.9879 - val_loss: 0.0659 - val_accuracy: 0.9842\n",
      "Epoch 87/100\n",
      "40000/40000 [==============================] - 4s 99us/step - loss: 0.0441 - accuracy: 0.9873 - val_loss: 0.0674 - val_accuracy: 0.9841\n",
      "Epoch 88/100\n",
      "40000/40000 [==============================] - 4s 98us/step - loss: 0.0434 - accuracy: 0.9879 - val_loss: 0.0642 - val_accuracy: 0.9843\n",
      "Epoch 89/100\n",
      "40000/40000 [==============================] - 4s 106us/step - loss: 0.0430 - accuracy: 0.9876 - val_loss: 0.0745 - val_accuracy: 0.9835\n",
      "Epoch 90/100\n",
      "40000/40000 [==============================] - 4s 95us/step - loss: 0.0438 - accuracy: 0.9876 - val_loss: 0.0705 - val_accuracy: 0.9828\n",
      "Epoch 91/100\n",
      "40000/40000 [==============================] - 4s 89us/step - loss: 0.0440 - accuracy: 0.9879 - val_loss: 0.0784 - val_accuracy: 0.9835\n",
      "Epoch 92/100\n",
      "40000/40000 [==============================] - 3s 69us/step - loss: 0.0432 - accuracy: 0.9880 - val_loss: 0.0737 - val_accuracy: 0.9832\n",
      "Epoch 93/100\n",
      "40000/40000 [==============================] - 3s 75us/step - loss: 0.0441 - accuracy: 0.9880 - val_loss: 0.0716 - val_accuracy: 0.9820\n",
      "Epoch 94/100\n",
      "40000/40000 [==============================] - 3s 75us/step - loss: 0.0432 - accuracy: 0.9880 - val_loss: 0.0702 - val_accuracy: 0.9848\n",
      "Epoch 95/100\n",
      "40000/40000 [==============================] - 4s 89us/step - loss: 0.0419 - accuracy: 0.9876 - val_loss: 0.0768 - val_accuracy: 0.9844\n",
      "Epoch 96/100\n",
      "40000/40000 [==============================] - 3s 83us/step - loss: 0.0428 - accuracy: 0.9881 - val_loss: 0.0860 - val_accuracy: 0.9808\n",
      "Epoch 97/100\n",
      "40000/40000 [==============================] - 3s 81us/step - loss: 0.0421 - accuracy: 0.9880 - val_loss: 0.0681 - val_accuracy: 0.9854\n",
      "Epoch 98/100\n",
      "40000/40000 [==============================] - 4s 104us/step - loss: 0.0417 - accuracy: 0.9882 - val_loss: 0.0876 - val_accuracy: 0.9803\n",
      "Epoch 99/100\n",
      "40000/40000 [==============================] - 4s 105us/step - loss: 0.0420 - accuracy: 0.9879 - val_loss: 0.0743 - val_accuracy: 0.9838\n",
      "Epoch 100/100\n",
      "40000/40000 [==============================] - 4s 103us/step - loss: 0.0419 - accuracy: 0.9879 - val_loss: 0.0683 - val_accuracy: 0.9828\n"
     ]
    }
   ],
   "source": [
    "history = model.fit(X_train, y_train, epochs=100, validation_split=0.2, batch_size=64)"
   ]
  },
  {
   "cell_type": "code",
   "execution_count": 50,
   "metadata": {},
   "outputs": [
    {
     "name": "stdout",
     "output_type": "stream",
     "text": [
      "50000/50000 [==============================] - 3s 55us/step\n",
      "0.039116427920332646 0.989080011844635\n"
     ]
    }
   ],
   "source": [
    "loss, acc = model.evaluate(X_train, y_train)\n",
    "print(loss, acc)"
   ]
  },
  {
   "cell_type": "code",
   "execution_count": 51,
   "metadata": {},
   "outputs": [
    {
     "name": "stdout",
     "output_type": "stream",
     "text": [
      "10000/10000 [==============================] - 1s 58us/step\n",
      "0.07562215916919522 0.9829000234603882\n"
     ]
    }
   ],
   "source": [
    "loss, acc = model.evaluate(X_test, y_test)\n",
    "print(loss, acc)"
   ]
  },
  {
   "cell_type": "code",
   "execution_count": 52,
   "metadata": {},
   "outputs": [
    {
     "name": "stdout",
     "output_type": "stream",
     "text": [
      "[0. 0. 1. 0. 0. 0. 0. 0. 0. 0.]\n",
      "2\n"
     ]
    }
   ],
   "source": [
    "predicted_classes = model.predict_classes(X_test)\n",
    "print(y_test[13])\n",
    "print(predicted_classes[13])"
   ]
  },
  {
   "cell_type": "code",
   "execution_count": 53,
   "metadata": {},
   "outputs": [
    {
     "data": {
      "image/png": "[encoded data removed]",
      "text/plain": [
       "<Figure size 432x288 with 1 Axes>"
      ]
     },
     "metadata": {
      "needs_background": "light"
     },
     "output_type": "display_data"
    }
   ],
   "source": [
    "plt.plot(history.history['accuracy'])\n",
    "plt.plot(history.history['val_accuracy'])\n",
    "plt.title('model accuracy')\n",
    "plt.ylabel('accuracy')\n",
    "plt.xlabel('epoch')\n",
    "plt.legend(['train', 'val'], loc='upper right')\n",
    "plt.show()"
   ]
  },
  {
   "cell_type": "code",
   "execution_count": 54,
   "metadata": {},
   "outputs": [
    {
     "data": {
      "image/png": "[encoded data removed]",
      "text/plain": [
       "<Figure size 432x288 with 1 Axes>"
      ]
     },
     "metadata": {
      "needs_background": "light"
     },
     "output_type": "display_data"
    }
   ],
   "source": [
    "plt.plot(history.history['loss'])\n",
    "plt.plot(history.history['val_loss'])\n",
    "plt.title('model loss')\n",
    "plt.ylabel('loss')\n",
    "plt.xlabel('epoch')\n",
    "plt.legend(['train', 'val'], loc='upper right')\n",
    "plt.show()"
   ]
  },
  {
   "cell_type": "code",
   "execution_count": null,
   "metadata": {},
   "outputs": [],
   "source": []
  }
 ],
 "metadata": {
  "kernelspec": {
   "display_name": "Python 3",
   "language": "python",
   "name": "python3"
  },
  "language_info": {
   "codemirror_mode": {
    "name": "ipython",
    "version": 3
   },
   "file_extension": ".py",
   "mimetype": "text/x-python",
   "name": "python",
   "nbconvert_exporter": "python",
   "pygments_lexer": "ipython3",
   "version": "3.7.7"
  }
 },
 "nbformat": 4,
 "nbformat_minor": 4
}
