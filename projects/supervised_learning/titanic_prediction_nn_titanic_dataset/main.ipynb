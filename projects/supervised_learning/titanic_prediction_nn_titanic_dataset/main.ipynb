{
 "cells": [
  {
   "cell_type": "code",
   "execution_count": 210,
   "metadata": {},
   "outputs": [],
   "source": [
    "import string\n",
    "import numpy as np\n",
    "import pandas as pd\n",
    "from keras.models import Sequential\n",
    "from keras.layers import Dense\n",
    "from sklearn.preprocessing import MinMaxScaler"
   ]
  },
  {
   "cell_type": "code",
   "execution_count": 211,
   "metadata": {},
   "outputs": [],
   "source": [
    "train_data = pd.read_csv('train.csv')\n",
    "test_data = pd.read_csv('test.csv')"
   ]
  },
  {
   "cell_type": "code",
   "execution_count": 212,
   "metadata": {},
   "outputs": [],
   "source": [
    "def print_dataframe_information(df):\n",
    "    print(df.shape)\n",
    "    print(df.columns.values)\n",
    "    print(df.isnull().sum())\n",
    "    return"
   ]
  },
  {
   "cell_type": "code",
   "execution_count": 213,
   "metadata": {},
   "outputs": [
    {
     "name": "stdout",
     "output_type": "stream",
     "text": [
      "(891, 12)\n",
      "['PassengerId' 'Survived' 'Pclass' 'Name' 'Sex' 'Age' 'SibSp' 'Parch'\n",
      " 'Ticket' 'Fare' 'Cabin' 'Embarked']\n",
      "PassengerId      0\n",
      "Survived         0\n",
      "Pclass           0\n",
      "Name             0\n",
      "Sex              0\n",
      "Age            177\n",
      "SibSp            0\n",
      "Parch            0\n",
      "Ticket           0\n",
      "Fare             0\n",
      "Cabin          687\n",
      "Embarked         2\n",
      "dtype: int64\n"
     ]
    }
   ],
   "source": [
    "print_dataframe_information(train_data)"
   ]
  },
  {
   "cell_type": "code",
   "execution_count": 214,
   "metadata": {},
   "outputs": [
    {
     "name": "stdout",
     "output_type": "stream",
     "text": [
      "(418, 11)\n",
      "['PassengerId' 'Pclass' 'Name' 'Sex' 'Age' 'SibSp' 'Parch' 'Ticket' 'Fare'\n",
      " 'Cabin' 'Embarked']\n",
      "PassengerId      0\n",
      "Pclass           0\n",
      "Name             0\n",
      "Sex              0\n",
      "Age             86\n",
      "SibSp            0\n",
      "Parch            0\n",
      "Ticket           0\n",
      "Fare             1\n",
      "Cabin          327\n",
      "Embarked         0\n",
      "dtype: int64\n"
     ]
    }
   ],
   "source": [
    "print_dataframe_information(test_data)"
   ]
  },
  {
   "cell_type": "code",
   "execution_count": 215,
   "metadata": {},
   "outputs": [],
   "source": [
    "def substrings_in_string(big_string, substrings):\n",
    "    for substring in substrings:\n",
    "        if big_string.find(substring) != -1:\n",
    "            return substring\n",
    "    return np.nan"
   ]
  },
  {
   "cell_type": "code",
   "execution_count": 216,
   "metadata": {},
   "outputs": [],
   "source": [
    "title_list=['Mrs', 'Mr', 'Master', 'Miss', 'Major', 'Rev',\n",
    "                    'Dr', 'Ms', 'Mlle','Col', 'Capt', 'Mme', 'Countess',\n",
    "                    'Don', 'Jonkheer']"
   ]
  },
  {
   "cell_type": "code",
   "execution_count": 217,
   "metadata": {},
   "outputs": [],
   "source": [
    "train_data['Title'] = train_data['Name'].map(lambda x: substrings_in_string(x, title_list))\n",
    "test_data['Title'] = test_data['Name'].map(lambda x: substrings_in_string(x, title_list))"
   ]
  },
  {
   "cell_type": "code",
   "execution_count": 218,
   "metadata": {},
   "outputs": [],
   "source": [
    "def replace_titles(x):\n",
    "    title=x['Title']\n",
    "    if title in ['Don', 'Major', 'Capt', 'Jonkheer', 'Rev', 'Col']:\n",
    "        return 'Mr'\n",
    "    elif title in ['Countess', 'Mme']:\n",
    "        return 'Mrs'\n",
    "    elif title in ['Mlle', 'Ms']:\n",
    "        return 'Miss'\n",
    "    elif title =='Dr':\n",
    "        if x['Sex']=='Male':\n",
    "            return 'Mr'\n",
    "        else:\n",
    "            return 'Mrs'\n",
    "    else:\n",
    "        return title"
   ]
  },
  {
   "cell_type": "code",
   "execution_count": 219,
   "metadata": {},
   "outputs": [],
   "source": [
    "train_data['Title'] = train_data.apply(replace_titles, axis=1)\n",
    "test_data['Title'] = test_data.apply(replace_titles, axis=1)"
   ]
  },
  {
   "cell_type": "code",
   "execution_count": 220,
   "metadata": {},
   "outputs": [
    {
     "name": "stdout",
     "output_type": "stream",
     "text": [
      "(891, 13)\n",
      "['PassengerId' 'Survived' 'Pclass' 'Name' 'Sex' 'Age' 'SibSp' 'Parch'\n",
      " 'Ticket' 'Fare' 'Cabin' 'Embarked' 'Title']\n",
      "PassengerId      0\n",
      "Survived         0\n",
      "Pclass           0\n",
      "Name             0\n",
      "Sex              0\n",
      "Age            177\n",
      "SibSp            0\n",
      "Parch            0\n",
      "Ticket           0\n",
      "Fare             0\n",
      "Cabin          687\n",
      "Embarked         2\n",
      "Title            0\n",
      "dtype: int64\n"
     ]
    }
   ],
   "source": [
    "print_dataframe_information(train_data)"
   ]
  },
  {
   "cell_type": "code",
   "execution_count": 221,
   "metadata": {},
   "outputs": [
    {
     "name": "stdout",
     "output_type": "stream",
     "text": [
      "(418, 12)\n",
      "['PassengerId' 'Pclass' 'Name' 'Sex' 'Age' 'SibSp' 'Parch' 'Ticket' 'Fare'\n",
      " 'Cabin' 'Embarked' 'Title']\n",
      "PassengerId      0\n",
      "Pclass           0\n",
      "Name             0\n",
      "Sex              0\n",
      "Age             86\n",
      "SibSp            0\n",
      "Parch            0\n",
      "Ticket           0\n",
      "Fare             1\n",
      "Cabin          327\n",
      "Embarked         0\n",
      "Title            0\n",
      "dtype: int64\n"
     ]
    }
   ],
   "source": [
    "print_dataframe_information(test_data)"
   ]
  },
  {
   "cell_type": "code",
   "execution_count": 222,
   "metadata": {},
   "outputs": [],
   "source": [
    "train_data['Family_Size']=train_data['SibSp']+train_data['Parch']\n",
    "test_data['Family_Size']=test_data['SibSp']+test_data['Parch']"
   ]
  },
  {
   "cell_type": "code",
   "execution_count": 223,
   "metadata": {},
   "outputs": [
    {
     "name": "stdout",
     "output_type": "stream",
     "text": [
      "(891, 14)\n",
      "['PassengerId' 'Survived' 'Pclass' 'Name' 'Sex' 'Age' 'SibSp' 'Parch'\n",
      " 'Ticket' 'Fare' 'Cabin' 'Embarked' 'Title' 'Family_Size']\n",
      "PassengerId      0\n",
      "Survived         0\n",
      "Pclass           0\n",
      "Name             0\n",
      "Sex              0\n",
      "Age            177\n",
      "SibSp            0\n",
      "Parch            0\n",
      "Ticket           0\n",
      "Fare             0\n",
      "Cabin          687\n",
      "Embarked         2\n",
      "Title            0\n",
      "Family_Size      0\n",
      "dtype: int64\n"
     ]
    }
   ],
   "source": [
    "print_dataframe_information(train_data)"
   ]
  },
  {
   "cell_type": "code",
   "execution_count": 224,
   "metadata": {},
   "outputs": [],
   "source": [
    "X_train = train_data[['Pclass', 'Sex', 'SibSp', 'Parch', 'Fare', 'Embarked', 'Title', 'Family_Size']]\n",
    "y = train_data[['Survived']]\n",
    "X_test = test_data[['Pclass', 'Sex', 'SibSp', 'Parch', 'Fare', 'Embarked', 'Title', 'Family_Size']]"
   ]
  },
  {
   "cell_type": "code",
   "execution_count": 225,
   "metadata": {},
   "outputs": [
    {
     "name": "stdout",
     "output_type": "stream",
     "text": [
      "(891, 8)\n",
      "['Pclass' 'Sex' 'SibSp' 'Parch' 'Fare' 'Embarked' 'Title' 'Family_Size']\n",
      "Pclass         0\n",
      "Sex            0\n",
      "SibSp          0\n",
      "Parch          0\n",
      "Fare           0\n",
      "Embarked       2\n",
      "Title          0\n",
      "Family_Size    0\n",
      "dtype: int64\n"
     ]
    }
   ],
   "source": [
    "print_dataframe_information(X_train)"
   ]
  },
  {
   "cell_type": "code",
   "execution_count": 226,
   "metadata": {},
   "outputs": [
    {
     "name": "stdout",
     "output_type": "stream",
     "text": [
      "(891, 1)\n",
      "['Survived']\n",
      "Survived    0\n",
      "dtype: int64\n"
     ]
    }
   ],
   "source": [
    "print_dataframe_information(y)"
   ]
  },
  {
   "cell_type": "code",
   "execution_count": 227,
   "metadata": {},
   "outputs": [
    {
     "name": "stdout",
     "output_type": "stream",
     "text": [
      "(418, 8)\n",
      "['Pclass' 'Sex' 'SibSp' 'Parch' 'Fare' 'Embarked' 'Title' 'Family_Size']\n",
      "Pclass         0\n",
      "Sex            0\n",
      "SibSp          0\n",
      "Parch          0\n",
      "Fare           1\n",
      "Embarked       0\n",
      "Title          0\n",
      "Family_Size    0\n",
      "dtype: int64\n"
     ]
    }
   ],
   "source": [
    "print_dataframe_information(X_test)"
   ]
  },
  {
   "cell_type": "code",
   "execution_count": 228,
   "metadata": {},
   "outputs": [
    {
     "name": "stderr",
     "output_type": "stream",
     "text": [
      "/home/arash/softwares/anaconda/lib/python3.7/site-packages/pandas/core/indexing.py:966: SettingWithCopyWarning: \n",
      "A value is trying to be set on a copy of a slice from a DataFrame.\n",
      "Try using .loc[row_indexer,col_indexer] = value instead\n",
      "\n",
      "See the caveats in the documentation: https://pandas.pydata.org/pandas-docs/stable/user_guide/indexing.html#returning-a-view-versus-a-copy\n",
      "  self.obj[item] = s\n"
     ]
    }
   ],
   "source": [
    "X_train.loc[:, 'Embarked'] = X_train.loc[:, 'Embarked'].fillna(pd.Series(np.random.choice(['S', 'C', 'Q'], size=len(X_train.index))))"
   ]
  },
  {
   "cell_type": "code",
   "execution_count": 229,
   "metadata": {},
   "outputs": [
    {
     "name": "stdout",
     "output_type": "stream",
     "text": [
      "(891, 8)\n",
      "['Pclass' 'Sex' 'SibSp' 'Parch' 'Fare' 'Embarked' 'Title' 'Family_Size']\n",
      "Pclass         0\n",
      "Sex            0\n",
      "SibSp          0\n",
      "Parch          0\n",
      "Fare           0\n",
      "Embarked       0\n",
      "Title          0\n",
      "Family_Size    0\n",
      "dtype: int64\n"
     ]
    }
   ],
   "source": [
    "print_dataframe_information(X_train)"
   ]
  },
  {
   "cell_type": "code",
   "execution_count": 230,
   "metadata": {},
   "outputs": [],
   "source": [
    "X_test = X_test.fillna(X_test.mean())"
   ]
  },
  {
   "cell_type": "code",
   "execution_count": 231,
   "metadata": {},
   "outputs": [
    {
     "name": "stdout",
     "output_type": "stream",
     "text": [
      "(418, 8)\n",
      "['Pclass' 'Sex' 'SibSp' 'Parch' 'Fare' 'Embarked' 'Title' 'Family_Size']\n",
      "Pclass         0\n",
      "Sex            0\n",
      "SibSp          0\n",
      "Parch          0\n",
      "Fare           0\n",
      "Embarked       0\n",
      "Title          0\n",
      "Family_Size    0\n",
      "dtype: int64\n"
     ]
    }
   ],
   "source": [
    "print_dataframe_information(X_test)"
   ]
  },
  {
   "cell_type": "code",
   "execution_count": 232,
   "metadata": {},
   "outputs": [],
   "source": [
    "X_train = pd.get_dummies(X_train, columns=['Pclass', 'Sex', 'Embarked', 'Title'])\n",
    "X_test = pd.get_dummies(X_test, columns=['Pclass', 'Sex', 'Embarked', 'Title'])"
   ]
  },
  {
   "cell_type": "code",
   "execution_count": 233,
   "metadata": {},
   "outputs": [
    {
     "name": "stdout",
     "output_type": "stream",
     "text": [
      "(891, 16)\n",
      "['SibSp' 'Parch' 'Fare' 'Family_Size' 'Pclass_1' 'Pclass_2' 'Pclass_3'\n",
      " 'Sex_female' 'Sex_male' 'Embarked_C' 'Embarked_Q' 'Embarked_S'\n",
      " 'Title_Master' 'Title_Miss' 'Title_Mr' 'Title_Mrs']\n",
      "SibSp           0\n",
      "Parch           0\n",
      "Fare            0\n",
      "Family_Size     0\n",
      "Pclass_1        0\n",
      "Pclass_2        0\n",
      "Pclass_3        0\n",
      "Sex_female      0\n",
      "Sex_male        0\n",
      "Embarked_C      0\n",
      "Embarked_Q      0\n",
      "Embarked_S      0\n",
      "Title_Master    0\n",
      "Title_Miss      0\n",
      "Title_Mr        0\n",
      "Title_Mrs       0\n",
      "dtype: int64\n"
     ]
    }
   ],
   "source": [
    "print_dataframe_information(X_train)"
   ]
  },
  {
   "cell_type": "code",
   "execution_count": 234,
   "metadata": {},
   "outputs": [
    {
     "name": "stdout",
     "output_type": "stream",
     "text": [
      "(418, 16)\n",
      "['SibSp' 'Parch' 'Fare' 'Family_Size' 'Pclass_1' 'Pclass_2' 'Pclass_3'\n",
      " 'Sex_female' 'Sex_male' 'Embarked_C' 'Embarked_Q' 'Embarked_S'\n",
      " 'Title_Master' 'Title_Miss' 'Title_Mr' 'Title_Mrs']\n",
      "SibSp           0\n",
      "Parch           0\n",
      "Fare            0\n",
      "Family_Size     0\n",
      "Pclass_1        0\n",
      "Pclass_2        0\n",
      "Pclass_3        0\n",
      "Sex_female      0\n",
      "Sex_male        0\n",
      "Embarked_C      0\n",
      "Embarked_Q      0\n",
      "Embarked_S      0\n",
      "Title_Master    0\n",
      "Title_Miss      0\n",
      "Title_Mr        0\n",
      "Title_Mrs       0\n",
      "dtype: int64\n"
     ]
    }
   ],
   "source": [
    "print_dataframe_information(X_test)"
   ]
  },
  {
   "cell_type": "code",
   "execution_count": 235,
   "metadata": {},
   "outputs": [
    {
     "name": "stdout",
     "output_type": "stream",
     "text": [
      "(891, 16)\n"
     ]
    }
   ],
   "source": [
    "scaler = MinMaxScaler(feature_range=(0, 1))\n",
    "X_train = scaler.fit_transform(pd.DataFrame(X_train))\n",
    "print(X_train.shape)"
   ]
  },
  {
   "cell_type": "code",
   "execution_count": 236,
   "metadata": {},
   "outputs": [
    {
     "name": "stdout",
     "output_type": "stream",
     "text": [
      "(418, 16)\n"
     ]
    }
   ],
   "source": [
    "scaler = MinMaxScaler(feature_range=(0, 1))\n",
    "X_test = scaler.fit_transform(pd.DataFrame(X_test))\n",
    "print(X_test.shape)"
   ]
  },
  {
   "cell_type": "code",
   "execution_count": 263,
   "metadata": {},
   "outputs": [],
   "source": [
    "model = Sequential()\n",
    "model.add(Dense(12, input_dim=X_train.shape[1], activation='relu'))\n",
    "model.add(Dense(8, activation='relu'))\n",
    "model.add(Dense(1, activation='sigmoid'))"
   ]
  },
  {
   "cell_type": "code",
   "execution_count": 264,
   "metadata": {},
   "outputs": [],
   "source": [
    "model.compile(loss='binary_crossentropy', optimizer='adam', metrics=['accuracy'])"
   ]
  },
  {
   "cell_type": "code",
   "execution_count": 265,
   "metadata": {},
   "outputs": [
    {
     "name": "stdout",
     "output_type": "stream",
     "text": [
      "Epoch 1/100\n",
      "891/891 [==============================] - 0s 342us/step - loss: 0.6561 - accuracy: 0.5870\n",
      "Epoch 2/100\n",
      "891/891 [==============================] - 0s 129us/step - loss: 0.5717 - accuracy: 0.7441\n",
      "Epoch 3/100\n",
      "891/891 [==============================] - 0s 133us/step - loss: 0.5199 - accuracy: 0.7778\n",
      "Epoch 4/100\n",
      "891/891 [==============================] - 0s 126us/step - loss: 0.4844 - accuracy: 0.7890\n",
      "Epoch 5/100\n",
      "891/891 [==============================] - 0s 131us/step - loss: 0.4568 - accuracy: 0.8002\n",
      "Epoch 6/100\n",
      "891/891 [==============================] - 0s 114us/step - loss: 0.4386 - accuracy: 0.7991\n",
      "Epoch 7/100\n",
      "891/891 [==============================] - 0s 144us/step - loss: 0.4269 - accuracy: 0.8036\n",
      "Epoch 8/100\n",
      "891/891 [==============================] - 0s 128us/step - loss: 0.4196 - accuracy: 0.8215\n",
      "Epoch 9/100\n",
      "891/891 [==============================] - 0s 176us/step - loss: 0.4129 - accuracy: 0.8204\n",
      "Epoch 10/100\n",
      "891/891 [==============================] - 0s 161us/step - loss: 0.4091 - accuracy: 0.8227\n",
      "Epoch 11/100\n",
      "891/891 [==============================] - 0s 111us/step - loss: 0.4060 - accuracy: 0.8305\n",
      "Epoch 12/100\n",
      "891/891 [==============================] - 0s 113us/step - loss: 0.4046 - accuracy: 0.8339\n",
      "Epoch 13/100\n",
      "891/891 [==============================] - 0s 113us/step - loss: 0.4033 - accuracy: 0.8339\n",
      "Epoch 14/100\n",
      "891/891 [==============================] - 0s 130us/step - loss: 0.4009 - accuracy: 0.8305\n",
      "Epoch 15/100\n",
      "891/891 [==============================] - 0s 116us/step - loss: 0.4003 - accuracy: 0.8260\n",
      "Epoch 16/100\n",
      "891/891 [==============================] - 0s 138us/step - loss: 0.3977 - accuracy: 0.8373\n",
      "Epoch 17/100\n",
      "891/891 [==============================] - 0s 156us/step - loss: 0.3964 - accuracy: 0.8361\n",
      "Epoch 18/100\n",
      "891/891 [==============================] - 0s 145us/step - loss: 0.3953 - accuracy: 0.8418\n",
      "Epoch 19/100\n",
      "891/891 [==============================] - 0s 125us/step - loss: 0.3957 - accuracy: 0.8361\n",
      "Epoch 20/100\n",
      "891/891 [==============================] - 0s 128us/step - loss: 0.3953 - accuracy: 0.8451\n",
      "Epoch 21/100\n",
      "891/891 [==============================] - 0s 143us/step - loss: 0.3942 - accuracy: 0.8406\n",
      "Epoch 22/100\n",
      "891/891 [==============================] - 0s 173us/step - loss: 0.3922 - accuracy: 0.8418\n",
      "Epoch 23/100\n",
      "891/891 [==============================] - 0s 111us/step - loss: 0.3920 - accuracy: 0.8440\n",
      "Epoch 24/100\n",
      "891/891 [==============================] - 0s 132us/step - loss: 0.3921 - accuracy: 0.8418\n",
      "Epoch 25/100\n",
      "891/891 [==============================] - 0s 167us/step - loss: 0.3911 - accuracy: 0.8429\n",
      "Epoch 26/100\n",
      "891/891 [==============================] - 0s 138us/step - loss: 0.3915 - accuracy: 0.8429\n",
      "Epoch 27/100\n",
      "891/891 [==============================] - 0s 134us/step - loss: 0.3907 - accuracy: 0.8418\n",
      "Epoch 28/100\n",
      "891/891 [==============================] - 0s 134us/step - loss: 0.3902 - accuracy: 0.8395\n",
      "Epoch 29/100\n",
      "891/891 [==============================] - 0s 139us/step - loss: 0.3896 - accuracy: 0.8406\n",
      "Epoch 30/100\n",
      "891/891 [==============================] - 0s 112us/step - loss: 0.3889 - accuracy: 0.8429\n",
      "Epoch 31/100\n",
      "891/891 [==============================] - 0s 135us/step - loss: 0.3898 - accuracy: 0.8395\n",
      "Epoch 32/100\n",
      "891/891 [==============================] - 0s 143us/step - loss: 0.3883 - accuracy: 0.8451\n",
      "Epoch 33/100\n",
      "891/891 [==============================] - 0s 162us/step - loss: 0.3896 - accuracy: 0.8440\n",
      "Epoch 34/100\n",
      "891/891 [==============================] - 0s 137us/step - loss: 0.3879 - accuracy: 0.8429\n",
      "Epoch 35/100\n",
      "891/891 [==============================] - 0s 128us/step - loss: 0.3890 - accuracy: 0.8395\n",
      "Epoch 36/100\n",
      "891/891 [==============================] - 0s 135us/step - loss: 0.3878 - accuracy: 0.8395\n",
      "Epoch 37/100\n",
      "891/891 [==============================] - 0s 107us/step - loss: 0.3873 - accuracy: 0.8418\n",
      "Epoch 38/100\n",
      "891/891 [==============================] - 0s 143us/step - loss: 0.3871 - accuracy: 0.8440\n",
      "Epoch 39/100\n",
      "891/891 [==============================] - 0s 132us/step - loss: 0.3863 - accuracy: 0.8440\n",
      "Epoch 40/100\n",
      "891/891 [==============================] - 0s 126us/step - loss: 0.3869 - accuracy: 0.8418\n",
      "Epoch 41/100\n",
      "891/891 [==============================] - 0s 145us/step - loss: 0.3867 - accuracy: 0.8429\n",
      "Epoch 42/100\n",
      "891/891 [==============================] - 0s 161us/step - loss: 0.3863 - accuracy: 0.8373\n",
      "Epoch 43/100\n",
      "891/891 [==============================] - 0s 123us/step - loss: 0.3864 - accuracy: 0.8373\n",
      "Epoch 44/100\n",
      "891/891 [==============================] - 0s 130us/step - loss: 0.3867 - accuracy: 0.8361\n",
      "Epoch 45/100\n",
      "891/891 [==============================] - 0s 114us/step - loss: 0.3860 - accuracy: 0.8384\n",
      "Epoch 46/100\n",
      "891/891 [==============================] - 0s 138us/step - loss: 0.3862 - accuracy: 0.8384\n",
      "Epoch 47/100\n",
      "891/891 [==============================] - 0s 124us/step - loss: 0.3854 - accuracy: 0.8429\n",
      "Epoch 48/100\n",
      "891/891 [==============================] - 0s 145us/step - loss: 0.3859 - accuracy: 0.8328\n",
      "Epoch 49/100\n",
      "891/891 [==============================] - 0s 137us/step - loss: 0.3856 - accuracy: 0.8429\n",
      "Epoch 50/100\n",
      "891/891 [==============================] - 0s 148us/step - loss: 0.3844 - accuracy: 0.8440\n",
      "Epoch 51/100\n",
      "891/891 [==============================] - 0s 122us/step - loss: 0.3847 - accuracy: 0.8395\n",
      "Epoch 52/100\n",
      "891/891 [==============================] - 0s 130us/step - loss: 0.3848 - accuracy: 0.8429\n",
      "Epoch 53/100\n",
      "891/891 [==============================] - 0s 154us/step - loss: 0.3849 - accuracy: 0.8395\n",
      "Epoch 54/100\n",
      "891/891 [==============================] - 0s 109us/step - loss: 0.3843 - accuracy: 0.8429\n",
      "Epoch 55/100\n",
      "891/891 [==============================] - 0s 133us/step - loss: 0.3847 - accuracy: 0.8418\n",
      "Epoch 56/100\n",
      "891/891 [==============================] - 0s 158us/step - loss: 0.3845 - accuracy: 0.8418\n",
      "Epoch 57/100\n",
      "891/891 [==============================] - 0s 150us/step - loss: 0.3843 - accuracy: 0.8418\n",
      "Epoch 58/100\n",
      "891/891 [==============================] - 0s 150us/step - loss: 0.3836 - accuracy: 0.8406\n",
      "Epoch 59/100\n",
      "891/891 [==============================] - 0s 136us/step - loss: 0.3831 - accuracy: 0.8440\n",
      "Epoch 60/100\n",
      "891/891 [==============================] - 0s 120us/step - loss: 0.3827 - accuracy: 0.8440\n",
      "Epoch 61/100\n",
      "891/891 [==============================] - 0s 157us/step - loss: 0.3831 - accuracy: 0.8440\n",
      "Epoch 62/100\n",
      "891/891 [==============================] - 0s 133us/step - loss: 0.3830 - accuracy: 0.8440\n",
      "Epoch 63/100\n",
      "891/891 [==============================] - 0s 140us/step - loss: 0.3825 - accuracy: 0.8429\n",
      "Epoch 64/100\n",
      "891/891 [==============================] - 0s 136us/step - loss: 0.3820 - accuracy: 0.8440\n",
      "Epoch 65/100\n",
      "891/891 [==============================] - 0s 162us/step - loss: 0.3813 - accuracy: 0.8440\n",
      "Epoch 66/100\n",
      "891/891 [==============================] - 0s 150us/step - loss: 0.3820 - accuracy: 0.8406\n",
      "Epoch 67/100\n",
      "891/891 [==============================] - 0s 127us/step - loss: 0.3828 - accuracy: 0.8429\n",
      "Epoch 68/100\n",
      "891/891 [==============================] - 0s 157us/step - loss: 0.3825 - accuracy: 0.8418\n",
      "Epoch 69/100\n",
      "891/891 [==============================] - 0s 135us/step - loss: 0.3828 - accuracy: 0.8440\n",
      "Epoch 70/100\n",
      "891/891 [==============================] - 0s 126us/step - loss: 0.3818 - accuracy: 0.8440\n",
      "Epoch 71/100\n",
      "891/891 [==============================] - 0s 150us/step - loss: 0.3807 - accuracy: 0.8418\n",
      "Epoch 72/100\n",
      "891/891 [==============================] - 0s 159us/step - loss: 0.3810 - accuracy: 0.8440\n",
      "Epoch 73/100\n",
      "891/891 [==============================] - 0s 155us/step - loss: 0.3816 - accuracy: 0.8418\n",
      "Epoch 74/100\n",
      "891/891 [==============================] - 0s 164us/step - loss: 0.3806 - accuracy: 0.8384\n",
      "Epoch 75/100\n",
      "891/891 [==============================] - 0s 161us/step - loss: 0.3819 - accuracy: 0.8440\n",
      "Epoch 76/100\n",
      "891/891 [==============================] - 0s 185us/step - loss: 0.3798 - accuracy: 0.8440\n",
      "Epoch 77/100\n",
      "891/891 [==============================] - 0s 142us/step - loss: 0.3811 - accuracy: 0.8418\n",
      "Epoch 78/100\n",
      "891/891 [==============================] - 0s 229us/step - loss: 0.3799 - accuracy: 0.8440\n",
      "Epoch 79/100\n"
     ]
    },
    {
     "name": "stdout",
     "output_type": "stream",
     "text": [
      "891/891 [==============================] - 0s 197us/step - loss: 0.3818 - accuracy: 0.8361\n",
      "Epoch 80/100\n",
      "891/891 [==============================] - 0s 188us/step - loss: 0.3814 - accuracy: 0.8429\n",
      "Epoch 81/100\n",
      "891/891 [==============================] - 0s 173us/step - loss: 0.3817 - accuracy: 0.8384\n",
      "Epoch 82/100\n",
      "891/891 [==============================] - 0s 126us/step - loss: 0.3800 - accuracy: 0.8395\n",
      "Epoch 83/100\n",
      "891/891 [==============================] - 0s 127us/step - loss: 0.3806 - accuracy: 0.8418\n",
      "Epoch 84/100\n",
      "891/891 [==============================] - 0s 131us/step - loss: 0.3803 - accuracy: 0.8384\n",
      "Epoch 85/100\n",
      "891/891 [==============================] - 0s 146us/step - loss: 0.3795 - accuracy: 0.8440\n",
      "Epoch 86/100\n",
      "891/891 [==============================] - 0s 165us/step - loss: 0.3794 - accuracy: 0.8440\n",
      "Epoch 87/100\n",
      "891/891 [==============================] - 0s 151us/step - loss: 0.3791 - accuracy: 0.8451\n",
      "Epoch 88/100\n",
      "891/891 [==============================] - 0s 133us/step - loss: 0.3790 - accuracy: 0.8451\n",
      "Epoch 89/100\n",
      "891/891 [==============================] - 0s 147us/step - loss: 0.3789 - accuracy: 0.8429\n",
      "Epoch 90/100\n",
      "891/891 [==============================] - 0s 139us/step - loss: 0.3788 - accuracy: 0.8429\n",
      "Epoch 91/100\n",
      "891/891 [==============================] - 0s 138us/step - loss: 0.3787 - accuracy: 0.8429\n",
      "Epoch 92/100\n",
      "891/891 [==============================] - 0s 154us/step - loss: 0.3792 - accuracy: 0.8418\n",
      "Epoch 93/100\n",
      "891/891 [==============================] - 0s 170us/step - loss: 0.3786 - accuracy: 0.8440\n",
      "Epoch 94/100\n",
      "891/891 [==============================] - 0s 134us/step - loss: 0.3784 - accuracy: 0.8418\n",
      "Epoch 95/100\n",
      "891/891 [==============================] - 0s 139us/step - loss: 0.3791 - accuracy: 0.8361\n",
      "Epoch 96/100\n",
      "891/891 [==============================] - 0s 132us/step - loss: 0.3785 - accuracy: 0.8440\n",
      "Epoch 97/100\n",
      "891/891 [==============================] - 0s 151us/step - loss: 0.3779 - accuracy: 0.8361\n",
      "Epoch 98/100\n",
      "891/891 [==============================] - 0s 134us/step - loss: 0.3781 - accuracy: 0.8429\n",
      "Epoch 99/100\n",
      "891/891 [==============================] - 0s 127us/step - loss: 0.3784 - accuracy: 0.8440\n",
      "Epoch 100/100\n",
      "891/891 [==============================] - 0s 159us/step - loss: 0.3787 - accuracy: 0.8406\n"
     ]
    },
    {
     "data": {
      "text/plain": [
       "<keras.callbacks.callbacks.History at 0x7f9362c58b10>"
      ]
     },
     "execution_count": 265,
     "metadata": {},
     "output_type": "execute_result"
    }
   ],
   "source": [
    "model.fit(X_train, y, epochs=100, batch_size=16)"
   ]
  },
  {
   "cell_type": "code",
   "execution_count": 266,
   "metadata": {},
   "outputs": [
    {
     "name": "stdout",
     "output_type": "stream",
     "text": [
      "891/891 [==============================] - 0s 77us/step\n",
      "0.37565982082543015 0.8406285047531128\n"
     ]
    }
   ],
   "source": [
    "loss, accuracy = model.evaluate(X_train, y)\n",
    "print(loss, accuracy)"
   ]
  },
  {
   "cell_type": "code",
   "execution_count": 267,
   "metadata": {},
   "outputs": [],
   "source": [
    "predictions = model.predict(X_test)\n",
    "predictions = np.where(predictions > 0.5, 1, 0)"
   ]
  },
  {
   "cell_type": "code",
   "execution_count": 268,
   "metadata": {},
   "outputs": [
    {
     "name": "stdout",
     "output_type": "stream",
     "text": [
      "(418, 1)\n"
     ]
    }
   ],
   "source": [
    "print(predictions.shape)"
   ]
  },
  {
   "cell_type": "code",
   "execution_count": 269,
   "metadata": {},
   "outputs": [],
   "source": [
    "output = pd.DataFrame({'PassengerId': test_data.PassengerId, 'Survived': predictions[:, 0]})"
   ]
  },
  {
   "cell_type": "code",
   "execution_count": 270,
   "metadata": {},
   "outputs": [
    {
     "name": "stdout",
     "output_type": "stream",
     "text": [
      "(418, 2)\n"
     ]
    }
   ],
   "source": [
    "print(output.shape)"
   ]
  },
  {
   "cell_type": "code",
   "execution_count": 271,
   "metadata": {},
   "outputs": [],
   "source": [
    "output.to_csv('predictions.csv', index=False)"
   ]
  },
  {
   "cell_type": "code",
   "execution_count": null,
   "metadata": {},
   "outputs": [],
   "source": []
  }
 ],
 "metadata": {
  "kernelspec": {
   "display_name": "Python 3",
   "language": "python",
   "name": "python3"
  },
  "language_info": {
   "codemirror_mode": {
    "name": "ipython",
    "version": 3
   },
   "file_extension": ".py",
   "mimetype": "text/x-python",
   "name": "python",
   "nbconvert_exporter": "python",
   "pygments_lexer": "ipython3",
   "version": "3.7.7"
  }
 },
 "nbformat": 4,
 "nbformat_minor": 4
}
