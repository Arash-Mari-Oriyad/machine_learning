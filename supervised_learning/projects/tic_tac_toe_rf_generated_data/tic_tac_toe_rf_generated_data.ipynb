{
 "cells": [
  {
   "cell_type": "code",
   "execution_count": 13,
   "metadata": {},
   "outputs": [],
   "source": [
    "import numpy as np\n",
    "from sklearn.ensemble import RandomForestClassifier\n",
    "from sklearn.metrics import confusion_matrix\n",
    "from sklearn.tree import export_graphviz\n",
    "import pydot\n",
    "from joblib import dump"
   ]
  },
  {
   "cell_type": "code",
   "execution_count": 3,
   "metadata": {},
   "outputs": [],
   "source": [
    "def permutation(lst): \n",
    "    if len(lst) == 0: \n",
    "        return [] \n",
    "    if len(lst) == 1: \n",
    "        return [lst] \n",
    "    l = [] \n",
    "    for i in range(len(lst)): \n",
    "       m = lst[i] \n",
    "       remLst = lst[:i] + lst[i+1:] \n",
    "       for p in permutation(remLst): \n",
    "           l.append([m] + p) \n",
    "    return l\n"
   ]
  },
  {
   "cell_type": "code",
   "execution_count": 4,
   "metadata": {},
   "outputs": [],
   "source": [
    "def check(table):\n",
    "    for i in range(3):\n",
    "        if table[i][0]==table[i][1]==table[i][2]==1:\n",
    "            return 1\n",
    "        if table[i][0]==table[i][1]==table[i][2]==2:\n",
    "            return 2\n",
    "        if table[0][i]==table[1][i]==table[2][i]==1:\n",
    "            return 1\n",
    "        if table[0][i]==table[1][i]==table[2][i]==2:\n",
    "            return 2\n",
    "    if table[0][0]==table[1][1]==table[2][2]==1:\n",
    "        return 1;\n",
    "    if table[0][0]==table[1][1]==table[2][2]==2:\n",
    "        return 2;\n",
    "    if table[0][2]==table[1][1]==table[2][0]==1:\n",
    "        return 1;\n",
    "    if table[0][2]==table[1][1]==table[2][0]==2:\n",
    "        return 2;\n",
    "    return 0;"
   ]
  },
  {
   "cell_type": "code",
   "execution_count": 5,
   "metadata": {},
   "outputs": [],
   "source": [
    "def calculateTableTarget(lst):\n",
    "    table = np.zeros([3, 3])\n",
    "    for i in range(len(lst)):\n",
    "        x = (lst[i]-1) // 3\n",
    "        y = (lst[i]-1) % 3\n",
    "        table[x][y]=(i % 2) + 1\n",
    "        target = check(table)\n",
    "        if target==1 or target == 2:\n",
    "            return target\n",
    "    return 0"
   ]
  },
  {
   "cell_type": "code",
   "execution_count": 6,
   "metadata": {},
   "outputs": [],
   "source": [
    "def calculateTarget(data):\n",
    "    targets = []\n",
    "    for lst in data:\n",
    "        targets.append(calculateTableTarget(lst))\n",
    "    return targets"
   ]
  },
  {
   "cell_type": "code",
   "execution_count": 7,
   "metadata": {},
   "outputs": [],
   "source": [
    "data = np.arange(1, 10, 1).tolist() \n",
    "data = permutation(data)\n",
    "targets = calculateTarget(data)"
   ]
  },
  {
   "cell_type": "code",
   "execution_count": 8,
   "metadata": {},
   "outputs": [
    {
     "data": {
      "text/plain": [
       "RandomForestClassifier(bootstrap=True, ccp_alpha=0.0, class_weight=None,\n",
       "                       criterion='gini', max_depth=None, max_features='auto',\n",
       "                       max_leaf_nodes=None, max_samples=None,\n",
       "                       min_impurity_decrease=0.0, min_impurity_split=None,\n",
       "                       min_samples_leaf=1, min_samples_split=2,\n",
       "                       min_weight_fraction_leaf=0.0, n_estimators=10,\n",
       "                       n_jobs=None, oob_score=False, random_state=42, verbose=0,\n",
       "                       warm_start=False)"
      ]
     },
     "execution_count": 8,
     "metadata": {},
     "output_type": "execute_result"
    }
   ],
   "source": [
    "classifier = RandomForestClassifier(n_estimators = 10, criterion = 'gini', random_state = 42)\n",
    "classifier.fit(data, targets)"
   ]
  },
  {
   "cell_type": "code",
   "execution_count": 9,
   "metadata": {},
   "outputs": [],
   "source": [
    "p = classifier.predict(data)"
   ]
  },
  {
   "cell_type": "code",
   "execution_count": 10,
   "metadata": {},
   "outputs": [
    {
     "name": "stdout",
     "output_type": "stream",
     "text": [
      "[[ 46080      0      0]\n",
      " [     0 212223     33]\n",
      " [     0    123 104421]]\n"
     ]
    }
   ],
   "source": [
    "print(confusion_matrix(targets, p))"
   ]
  },
  {
   "cell_type": "code",
   "execution_count": 11,
   "metadata": {},
   "outputs": [
    {
     "name": "stdout",
     "output_type": "stream",
     "text": [
      "99.95701058201058\n"
     ]
    }
   ],
   "source": [
    "errors = 0\n",
    "for i in range(len(targets)):\n",
    "    if targets[i] != p[i]:\n",
    "        errors += 1\n",
    "accuracy = 100 - errors / len(targets) * 100\n",
    "print(accuracy)"
   ]
  },
  {
   "cell_type": "code",
   "execution_count": 14,
   "metadata": {},
   "outputs": [
    {
     "data": {
      "text/plain": [
       "['tic_tac_toe.model']"
      ]
     },
     "execution_count": 14,
     "metadata": {},
     "output_type": "execute_result"
    }
   ],
   "source": [
    "dump(classifier, \"tic_tac_toe.model\")"
   ]
  },
  {
   "cell_type": "code",
   "execution_count": null,
   "metadata": {},
   "outputs": [],
   "source": []
  }
 ],
 "metadata": {
  "kernelspec": {
   "display_name": "Python 3",
   "language": "python",
   "name": "python3"
  },
  "language_info": {
   "codemirror_mode": {
    "name": "ipython",
    "version": 3
   },
   "file_extension": ".py",
   "mimetype": "text/x-python",
   "name": "python",
   "nbconvert_exporter": "python",
   "pygments_lexer": "ipython3",
   "version": "3.7.6"
  }
 },
 "nbformat": 4,
 "nbformat_minor": 4
}
